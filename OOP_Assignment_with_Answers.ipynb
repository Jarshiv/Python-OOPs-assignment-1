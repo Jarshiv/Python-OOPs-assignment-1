{
 "cells": [
  {
   "cell_type": "code",
   "execution_count": null,
   "id": "44a465da-e41c-46ee-af46-325d2b360f2f",
   "metadata": {},
   "outputs": [],
   "source": [
    "#Python OOPs Questions"
   ]
  },
  {
   "cell_type": "code",
   "execution_count": null,
   "id": "240aa241-25c8-41b6-b012-a05a4c476679",
   "metadata": {},
   "outputs": [],
   "source": [
    "# What is Object-Oriented Programming (OOP)\n",
    "\n",
    "# Answer: OOP is a programming paradigm based on the concept of objects, which contain data (attributes) and code (methods).\n",
    "# It promotes modularity, reusability, and abstraction."
   ]
  },
  {
   "cell_type": "code",
   "execution_count": null,
   "id": "dd25767c-68cf-43ba-a61c-3cd08f50592e",
   "metadata": {},
   "outputs": [],
   "source": [
    "# What is a class in OOP\n",
    "\n",
    "# Answer: A class is a blueprint or template for creating objects. \n",
    "# It defines attributes and methods that the objects created from it will have."
   ]
  },
  {
   "cell_type": "code",
   "execution_count": null,
   "id": "67cef37b-fcee-49a6-be2a-44da340a8fba",
   "metadata": {},
   "outputs": [],
   "source": [
    "# What is an object in OOP\n",
    "# Answer: An object is an instance of a class. It represents a real-world entity and has attributes (data) and methods (behavior)."
   ]
  },
  {
   "cell_type": "code",
   "execution_count": null,
   "id": "480f6e28-a202-4850-8525-6aa578381bb1",
   "metadata": {},
   "outputs": [],
   "source": [
    "# What is the difference between abstraction and encapsulation\n",
    "# Answer: Abstraction is hiding implementation details and showing only essential features,\n",
    "# while encapsulation is wrapping data and methods together into a single unit and restricting direct access."
   ]
  },
  {
   "cell_type": "code",
   "execution_count": null,
   "id": "15da67a8-f7e6-4836-b928-283eb62e5008",
   "metadata": {},
   "outputs": [],
   "source": [
    "# What are dunder methods in Python\n",
    "\n",
    "# Answer: Dunder (double underscore) methods are special methods in Python, like __init__, __str__, __add__,\n",
    "# that allow operator overloading and object customization."
   ]
  },
  {
   "cell_type": "code",
   "execution_count": null,
   "id": "70a7316b-f4f5-4c66-90a4-6af8d3db5270",
   "metadata": {},
   "outputs": [],
   "source": [
    "# Explain the concept of inheritance in OOP\n",
    "\n",
    "# Answer: Inheritance allows a class (child) to acquire properties and behaviors (methods) from another class (parent), \n",
    "# promoting reusability and hierarchical relationships."
   ]
  },
  {
   "cell_type": "code",
   "execution_count": null,
   "id": "a942b4ab-0f3f-49d8-ba27-c1e6d30d489c",
   "metadata": {},
   "outputs": [],
   "source": [
    "# What is polymorphism in OOP\n",
    "\n",
    "# Answer:Polymorphism allows objects of different classes to be treated through a common interface, \n",
    "# where methods may behave differently depending on the object."
   ]
  },
  {
   "cell_type": "code",
   "execution_count": null,
   "id": "e31ee83f-b90c-481d-ac26-ba27fbdfbcec",
   "metadata": {},
   "outputs": [],
   "source": [
    "# How is encapsulation achieved in Python\n",
    "\n",
    "# Answer: Encapsulation is achieved using private attributes (prefixing with _) and providing getter and setter methods for controlled access."
   ]
  },
  {
   "cell_type": "code",
   "execution_count": null,
   "id": "1104d634-561a-495f-ad1a-f2358d395357",
   "metadata": {},
   "outputs": [],
   "source": [
    "# What is a constructor in Python\n",
    "\n",
    "# Answer:A constructor is a special method __init__ used to initialize objects when they are created."
   ]
  },
  {
   "cell_type": "code",
   "execution_count": null,
   "id": "7f5c6932-4a0f-4ffc-ae8c-0e06a502472a",
   "metadata": {},
   "outputs": [],
   "source": [
    "# What are class and static methods in Python\n",
    "\n",
    "# Answer: Class methods use @classmethod and take cls as the first argument, used for class-level operations. \n",
    "# Static methods use @staticmethod and do not require self or cls."
   ]
  },
  {
   "cell_type": "code",
   "execution_count": null,
   "id": "3de1ac94-fb44-46d4-9203-5bec7ce98cf8",
   "metadata": {},
   "outputs": [],
   "source": [
    "# What is method overloading in Python\n",
    "\n",
    "# Answer:Python does not support traditional overloading, but it can be achieved using default arguments or *args and **kwargs."
   ]
  },
  {
   "cell_type": "code",
   "execution_count": null,
   "id": "cbbfa85f-19e6-4db1-8b45-0b6307e051cf",
   "metadata": {},
   "outputs": [],
   "source": [
    "#What is method overriding in OOP\n",
    "\n",
    "# Answer:Method overriding occurs when a subclass provides a specific implementation of a method that is already defined in its parent class."
   ]
  },
  {
   "cell_type": "code",
   "execution_count": null,
   "id": "779f1eca-b25b-4f07-85eb-f202d9e0c9ff",
   "metadata": {},
   "outputs": [],
   "source": [
    "#What is a property decorator in Python\n",
    "\n",
    "# Answer: The property decorator allows defining getter, setter, and deleter methods for class attributes in a Pythonic way."
   ]
  },
  {
   "cell_type": "code",
   "execution_count": null,
   "id": "e12ccf19-6155-4bba-a79c-995b3d30f0ff",
   "metadata": {},
   "outputs": [],
   "source": [
    "# Why is polymorphism important in OOP\n",
    "\n",
    "# Answer: It increases flexibility and reusability by allowing one interface to be used for different underlying data types."
   ]
  },
  {
   "cell_type": "code",
   "execution_count": null,
   "id": "a86ed8f8-f753-419b-9b57-744f926cfdc4",
   "metadata": {},
   "outputs": [],
   "source": [
    "# What is an abstract class in Python\n",
    "\n",
    "# Answer: An abstract class is a class that cannot be instantiated directly and can contain abstract methods. Defined using ABC module."
   ]
  },
  {
   "cell_type": "code",
   "execution_count": null,
   "id": "4ba3690d-f294-430b-b88d-939b49b21025",
   "metadata": {},
   "outputs": [],
   "source": [
    "# What are the advantages of OOP\n",
    "\n",
    "# Answer: Advantages include modularity, reusability, scalability, abstraction, encapsulation, and easier maintenance."
   ]
  },
  {
   "cell_type": "code",
   "execution_count": null,
   "id": "2a4d0c81-4b35-4d59-a45f-d05d06ce0ac9",
   "metadata": {},
   "outputs": [],
   "source": [
    "#What is the difference between a class variable and an instance variable\n",
    "\n",
    "# Answer: Class variables are shared across all instances, while instance variables are unique to each object."
   ]
  },
  {
   "cell_type": "code",
   "execution_count": null,
   "id": "3d700563-c921-41f8-aa09-7c81252142a5",
   "metadata": {},
   "outputs": [],
   "source": [
    "#What is multiple inheritance in Python\n",
    "# Answer:Multiple inheritance allows a class to inherit from more than one parent class."
   ]
  },
  {
   "cell_type": "code",
   "execution_count": null,
   "id": "01e0bc46-53b3-4d25-94f6-de83897ba6de",
   "metadata": {},
   "outputs": [],
   "source": [
    "#Explain the purpose of __str__ and __repr__ methods in Python\n",
    "# Answer:__str__ is used for user-friendly string representation, while __repr__ is for unambiguous debugging representation."
   ]
  },
  {
   "cell_type": "code",
   "execution_count": null,
   "id": "afac3e4c-1995-4f45-a3ce-5287e937af2d",
   "metadata": {},
   "outputs": [],
   "source": [
    "# What is the significance of the super() function in Python\n",
    "\n",
    "# Answer: super() is used to call methods from a parent class, typically used in constructors and overridden methods."
   ]
  },
  {
   "cell_type": "code",
   "execution_count": null,
   "id": "c322dc0c-bf97-41bd-b45d-5046d7a2a9ce",
   "metadata": {},
   "outputs": [],
   "source": [
    "#What is the significance of the __del__ method in Python\n",
    "\n",
    "# Answer:__del__ is a destructor method called when an object is about to be destroyed."
   ]
  },
  {
   "cell_type": "code",
   "execution_count": null,
   "id": "9d3c8086-9056-43d0-ae76-76080d7c9031",
   "metadata": {},
   "outputs": [],
   "source": [
    "#What is the difference between @staticmethod and @classmethod in Python\n",
    "\n",
    "# Answer:staticmethod does not take self or cls and is used for utility functions, while classmethod takes cls and can modify class state."
   ]
  },
  {
   "cell_type": "code",
   "execution_count": null,
   "id": "c17aff50-b227-4481-ab80-23be45d5c7ef",
   "metadata": {},
   "outputs": [],
   "source": [
    "#How does polymorphism work in Python with inheritance\n",
    "\n",
    "# Answer:Through method overriding, where subclasses define their own implementations of methods inherited from the parent class."
   ]
  },
  {
   "cell_type": "code",
   "execution_count": null,
   "id": "aafa151b-8335-4051-a1a4-5d4d19b3dfde",
   "metadata": {},
   "outputs": [],
   "source": [
    "# What is method chaining in Python OOP\n",
    "\n",
    "# Answer:Method chaining allows calling multiple methods on the same object in a single statement by returning self."
   ]
  },
  {
   "cell_type": "code",
   "execution_count": null,
   "id": "d284f84f-3567-4e55-9649-4dac95918727",
   "metadata": {},
   "outputs": [],
   "source": [
    "# What is the purpose of the __call__ method in Python?\n",
    "\n",
    "# Answer: __call__ makes an instance callable like a function, allowing objects to be invoked directly."
   ]
  },
  {
   "cell_type": "code",
   "execution_count": null,
   "id": "0bec8806-d7c4-4bab-906a-392525bb4efa",
   "metadata": {},
   "outputs": [],
   "source": [
    "#practical "
   ]
  },
  {
   "cell_type": "code",
   "execution_count": null,
   "id": "0dbc97a9",
   "metadata": {},
   "outputs": [],
   "source": [
    "# 1. Create a parent class Animal with a method speak() that prints a generic message. Create a child class Dog\n",
    "# that overrides the speak() method to print \"Bark!\".\n",
    "class Animal:\n",
    "    def speak(self):\n",
    "        print(\"This is a generic animal sound.\")\n",
    "\n",
    "class Dog(Animal):\n",
    "    def speak(self):\n",
    "        print(\"Bark!\")\n",
    "\n",
    "d = Dog()\n",
    "d.speak()"
   ]
  },
  {
   "cell_type": "code",
   "execution_count": 2,
   "id": "9b780d0f",
   "metadata": {},
   "outputs": [
    {
     "name": "stdout",
     "output_type": "stream",
     "text": [
      "78.5 24\n"
     ]
    }
   ],
   "source": [
    "#2. Write a program to create an abstract class Shape with a method area(). Derive classes Circle and Rectangle\n",
    "# from it and implement the area() method in both.\n",
    "from abc import ABC, abstractmethod\n",
    "\n",
    "class Shape(ABC):\n",
    "    @abstractmethod\n",
    "    def area(self):\n",
    "        pass\n",
    "\n",
    "class Circle(Shape):\n",
    "    def __init__(self, radius):\n",
    "        self.radius = radius\n",
    "    \n",
    "    def area(self):\n",
    "        return 3.14 * self.radius * self.radius\n",
    "\n",
    "class Rectangle(Shape):\n",
    "    def __init__(self, length, width):\n",
    "        self.length = length\n",
    "        self.width = width\n",
    "    \n",
    "    def area(self):\n",
    "        return self.length * self.width\n",
    "\n",
    "c = Circle(5)\n",
    "r = Rectangle(4, 6)\n",
    "print(c.area(), r.area())"
   ]
  },
  {
   "cell_type": "code",
   "execution_count": null,
   "id": "5e343535",
   "metadata": {},
   "outputs": [],
   "source": [
    "# 3. Implement a multi-level inheritance scenario where a class Vehicle has an attribute type. Derive a class Car\n",
    "# and further derive a class ElectricCar that adds a battery attribute.\n",
    "class Vehicle:\n",
    "    def __init__(self, type):\n",
    "        self.type = type\n",
    "\n",
    "class Car(Vehicle):\n",
    "    def __init__(self, type, brand):\n",
    "        super().__init__(type)\n",
    "        self.brand = brand\n",
    "\n",
    "class ElectricCar(Car):\n",
    "    def __init__(self, type, brand, battery):\n",
    "        super().__init__(type, brand)\n",
    "        self.battery = battery\n",
    "\n",
    "e = ElectricCar(\"Car\", \"Tesla\", \"100kWh\")\n",
    "print(e.type, e.brand, e.battery)"
   ]
  },
  {
   "cell_type": "code",
   "execution_count": null,
   "id": "9e68d327",
   "metadata": {},
   "outputs": [],
   "source": [
    "# 4. Demonstrate polymorphism by creating a base class Bird with a method fly(). Create two derived classes\n",
    "# Sparrow and Penguin that override the fly() method.\n",
    "\n",
    "class Bird:\n",
    "    def fly(self):\n",
    "        print(\"Bird is flying.\")\n",
    "\n",
    "class Sparrow(Bird):\n",
    "    def fly(self):\n",
    "        print(\"Sparrow flies high.\")\n",
    "\n",
    "class Penguin(Bird):\n",
    "    def fly(self):\n",
    "        print(\"Penguins cannot fly.\")\n",
    "\n",
    "for b in [Sparrow(), Penguin()]:\n",
    "    b.fly()"
   ]
  },
  {
   "cell_type": "code",
   "execution_count": null,
   "id": "1c3aa861",
   "metadata": {},
   "outputs": [],
   "source": [
    "# 5. Write a program to demonstrate encapsulation by creating a class BankAccount with private attributes\n",
    "# balance and methods to deposit, withdraw, and check balance.\n",
    "class BankAccount:\n",
    "    def __init__(self):\n",
    "        self.__balance = 0\n",
    "\n",
    "    def deposit(self, amount):\n",
    "        self.__balance += amount\n",
    "\n",
    "    def withdraw(self, amount):\n",
    "        if amount <= self.__balance:\n",
    "            self.__balance -= amount\n",
    "        else:\n",
    "            print(\"Insufficient balance\")\n",
    "\n",
    "    def get_balance(self):\n",
    "        return self.__balance\n",
    "\n",
    "acc = BankAccount()\n",
    "acc.deposit(1000)\n",
    "acc.withdraw(500)\n",
    "print(acc.get_balance())"
   ]
  },
  {
   "cell_type": "code",
   "execution_count": null,
   "id": "d223538c",
   "metadata": {},
   "outputs": [],
   "source": [
    "# 6. Demonstrate runtime polymorphism using a method play() in a base class Instrument. Derive classes Guitar\n",
    "# and Piano that implement their own version of play().\n",
    "class Instrument:\n",
    "    def play(self):\n",
    "        print(\"Playing an instrument\")\n",
    "\n",
    "class Guitar(Instrument):\n",
    "    def play(self):\n",
    "        print(\"Playing Guitar\")\n",
    "\n",
    "class Piano(Instrument):\n",
    "    def play(self):\n",
    "        print(\"Playing Piano\")\n",
    "\n",
    "for i in [Guitar(), Piano()]:\n",
    "    i.play()"
   ]
  },
  {
   "cell_type": "code",
   "execution_count": null,
   "id": "35aa308c",
   "metadata": {},
   "outputs": [],
   "source": [
    "# 7. Create a class MathOperations with a class method add_numbers() to add two numbers and a static\n",
    "# method subtract_numbers() to subtract two numbers.\n",
    "class MathOperations:\n",
    "    @classmethod\n",
    "    def add_numbers(cls, a, b):\n",
    "        return a + b\n",
    "\n",
    "    @staticmethod\n",
    "    def subtract_numbers(a, b):\n",
    "        return a - b\n",
    "\n",
    "print(MathOperations.add_numbers(10, 5))\n",
    "print(MathOperations.subtract_numbers(10, 5))"
   ]
  },
  {
   "cell_type": "code",
   "execution_count": null,
   "id": "70aef016",
   "metadata": {},
   "outputs": [],
   "source": [
    "# 8. Implement a class Person with a class method to count the total number of persons created..\n",
    "class Person:\n",
    "    count = 0\n",
    "\n",
    "    def __init__(self, name):\n",
    "        self.name = name\n",
    "        Person.count += 1\n",
    "\n",
    "    @classmethod\n",
    "    def total_persons(cls):\n",
    "        return cls.count\n",
    "\n",
    "p1 = Person(\"Alice\")\n",
    "p2 = Person(\"Bob\")\n",
    "print(Person.total_persons())"
   ]
  },
  {
   "cell_type": "code",
   "execution_count": null,
   "id": "a449fa05",
   "metadata": {},
   "outputs": [],
   "source": [
    "# 9. Write a class Fraction with attributes numerator and denominator. Override the str method to display the\n",
    "# fraction as \"numerator/denominator\".\n",
    "class Fraction:\n",
    "    def __init__(self, numerator, denominator):\n",
    "        self.numerator = numerator\n",
    "        self.denominator = denominator\n",
    "\n",
    "    def __str__(self):\n",
    "        return f\"{self.numerator}/{self.denominator}\"\n",
    "\n",
    "f = Fraction(3, 4)\n",
    "print(f)"
   ]
  },
  {
   "cell_type": "code",
   "execution_count": null,
   "id": "0a439f23",
   "metadata": {},
   "outputs": [],
   "source": [
    "# 10. Demonstrate operator overloading by creating a class Vector and overriding the add method to add two\n",
    "# vectors.\n",
    "class Vector:\n",
    "    def __init__(self, x, y):\n",
    "        self.x = x\n",
    "        self.y = y\n",
    "\n",
    "    def __add__(self, other):\n",
    "        return Vector(self.x + other.x, self.y + other.y)\n",
    "\n",
    "    def __str__(self):\n",
    "        return f\"Vector({self.x}, {self.y})\"\n",
    "\n",
    "v1 = Vector(1, 2)\n",
    "v2 = Vector(3, 4)\n",
    "print(v1 + v2)"
   ]
  },
  {
   "cell_type": "code",
   "execution_count": null,
   "id": "f8bf2f80",
   "metadata": {},
   "outputs": [],
   "source": [
    "#11. Create a class Person with attributes name and age. Add a method greet() that prints \"Hello, my name is\n",
    "# {name} and I am {age} years old.\"\n",
    "class Person:\n",
    "    def __init__(self, name, age):\n",
    "        self.name = name\n",
    "        self.age = age\n",
    "\n",
    "    def greet(self):\n",
    "        print(f\"Hello, my name is {self.name} and I am {self.age} years old.\")\n",
    "\n",
    "p = Person(\"John\", 30)\n",
    "p.greet()"
   ]
  },
  {
   "cell_type": "code",
   "execution_count": null,
   "id": "08cf7eac",
   "metadata": {},
   "outputs": [],
   "source": [
    "#12. Implement a class Student with attributes name and grades. Create a method average_grade() to compute\n",
    "# the average of the grades.\n",
    "class Student:\n",
    "    def __init__(self, name, grades):\n",
    "        self.name = name\n",
    "        self.grades = grades\n",
    "\n",
    "    def average_grade(self):\n",
    "        return sum(self.grades) / len(self.grades)\n",
    "\n",
    "s = Student(\"Emma\", [85, 90, 95])\n",
    "print(s.average_grade())"
   ]
  },
  {
   "cell_type": "code",
   "execution_count": null,
   "id": "e0455303",
   "metadata": {},
   "outputs": [],
   "source": [
    "#13. Create a class Rectangle with methods set_dimensions() to set the dimensions and area() to calculate the\n",
    "# area.\n",
    "class Rectangle:\n",
    "    def set_dimensions(self, length, width):\n",
    "        self.length = length\n",
    "        self.width = width\n",
    "\n",
    "    def area(self):\n",
    "        return self.length * self.width\n",
    "\n",
    "rect = Rectangle()\n",
    "rect.set_dimensions(5, 10)\n",
    "print(rect.area())"
   ]
  },
  {
   "cell_type": "code",
   "execution_count": null,
   "id": "e9714a50",
   "metadata": {},
   "outputs": [],
   "source": [
    "# 14. Create a class Employee with a method calculate_salary() that computes the salary based on hours worked\n",
    "# and hourly rate. Create a derived class Manager that adds a bonus to the salary\n",
    "class Employee:\n",
    "    def __init__(self, hours, rate):\n",
    "        self.hours = hours\n",
    "        self.rate = rate\n",
    "\n",
    "    def calculate_salary(self):\n",
    "        return self.hours * self.rate\n",
    "\n",
    "class Manager(Employee):\n",
    "    def __init__(self, hours, rate, bonus):\n",
    "        super().__init__(hours, rate)\n",
    "        self.bonus = bonus\n",
    "\n",
    "    def calculate_salary(self):\n",
    "        return super().calculate_salary() + self.bonus\n",
    "\n",
    "m = Manager(40, 50, 500)\n",
    "print(m.calculate_salary())"
   ]
  },
  {
   "cell_type": "code",
   "execution_count": null,
   "id": "a696f928",
   "metadata": {},
   "outputs": [],
   "source": [
    "#15. Create a class Product with attributes name, price, and quantity. Implement a method total_price() that\n",
    "# calculates the total price of the product.\n",
    "class Product:\n",
    "    def __init__(self, name, price, quantity):\n",
    "        self.name = name\n",
    "        self.price = price\n",
    "        self.quantity = quantity\n",
    "\n",
    "    def total_price(self):\n",
    "        return self.price * self.quantity\n",
    "\n",
    "p = Product(\"Laptop\", 1000, 3)\n",
    "print(p.total_price())"
   ]
  },
  {
   "cell_type": "code",
   "execution_count": null,
   "id": "00f3fc50",
   "metadata": {},
   "outputs": [],
   "source": [
    "#16. Create a class Animal with an abstract method sound(). Create two derived classes Cow and Sheep that\n",
    "# implement the sound() method.\n",
    "from abc import ABC, abstractmethod\n",
    "\n",
    "class Animal(ABC):\n",
    "    @abstractmethod\n",
    "    def sound(self):\n",
    "        pass\n",
    "\n",
    "class Cow(Animal):\n",
    "    def sound(self):\n",
    "        return \"Moo\"\n",
    "\n",
    "class Sheep(Animal):\n",
    "    def sound(self):\n",
    "        return \"Baa\"\n",
    "\n",
    "print(Cow().sound())\n",
    "print(Sheep().sound())"
   ]
  },
  {
   "cell_type": "code",
   "execution_count": null,
   "id": "be955040",
   "metadata": {},
   "outputs": [],
   "source": [
    "# 17. Create a class Book with attributes title, author, and year_published. Add a method get_book_info() that\n",
    "# returns a formatted string with the book's details\n",
    "class Book:\n",
    "    def __init__(self, title, author, year_published):\n",
    "        self.title = title\n",
    "        self.author = author\n",
    "        self.year_published = year_published\n",
    "\n",
    "    def get_book_info(self):\n",
    "        return f\"{self.title} by {self.author}, published in {self.year_published}\"\n",
    "\n",
    "b = Book(\"1984\", \"George Orwell\", 1949)\n",
    "print(b.get_book_info())"
   ]
  },
  {
   "cell_type": "code",
   "execution_count": null,
   "id": "76fc9936",
   "metadata": {},
   "outputs": [],
   "source": [
    "# 18. Create a class House with attributes address and price. Create a derived class Mansion that adds an\n",
    "# attribute number_of_rooms.\n",
    "class House:\n",
    "    def __init__(self, address, price):\n",
    "        self.address = address\n",
    "        self.price = price\n",
    "\n",
    "class Mansion(House):\n",
    "    def __init__(self, address, price, rooms):\n",
    "        super().__init__(address, price)\n",
    "        self.rooms = rooms\n",
    "\n",
    "m = Mansion(\"123 Street\", 500000, 10)\n",
    "print(m.address, m.price, m.rooms)"
   ]
  }
 ],
 "metadata": {
  "kernelspec": {
   "display_name": "Python [conda env:base] *",
   "language": "python",
   "name": "conda-base-py"
  },
  "language_info": {
   "codemirror_mode": {
    "name": "ipython",
    "version": 3
   },
   "file_extension": ".py",
   "mimetype": "text/x-python",
   "name": "python",
   "nbconvert_exporter": "python",
   "pygments_lexer": "ipython3",
   "version": "3.12.7"
  }
 },
 "nbformat": 4,
 "nbformat_minor": 5
}
